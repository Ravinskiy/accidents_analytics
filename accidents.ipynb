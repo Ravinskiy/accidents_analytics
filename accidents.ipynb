{
 "cells": [
  {
   "cell_type": "code",
   "execution_count": 2,
   "metadata": {},
   "outputs": [
    {
     "name": "stdout",
     "output_type": "stream",
     "text": [
      "3.6.2 (v3.6.2:5fd33b5926, Jul 16 2017, 20:11:06) \n",
      "[GCC 4.2.1 (Apple Inc. build 5666) (dot 3)]\n"
     ]
    }
   ],
   "source": [
    "'''\n",
    "Accidents analytics\n",
    "\n",
    "by Pinhas Ravinskiy\n",
    "\n",
    "Python 3.5\n",
    "'''\n",
    "\n",
    "# Imports section\n",
    "\n",
    "import os\n",
    "import sys\n",
    "import statistics\n",
    "from datetime import datetime\n",
    "from csv import DictReader\n",
    "from tqdm import tqdm_notebook as tqdm  # if some error/warnings try to run in terminal \"jupyter nbextension enable --py --sys-prefix widgetsnbextension\" and reload notebook page\n",
    "\n",
    "print(sys.version)"
   ]
  },
  {
   "cell_type": "code",
   "execution_count": 3,
   "metadata": {
    "collapsed": true
   },
   "outputs": [],
   "source": [
    "# Data model section\n",
    "\n",
    "type_custom_datetime = datetime.strptime\n",
    "DATE_FORMAT = '%d/%m/%Y'\n",
    "TIME_FORMAT = '%H:%M'\n",
    "\n",
    "\n",
    "def type_speed_limit(val: str) -> float:\n",
    "    if val.lower() == 'null' or not val:\n",
    "        return float('+infinity')\n",
    "    else:\n",
    "        return float(val)\n",
    "\n",
    "        \n",
    "# Dataset description\n",
    "columns = {\n",
    "    'Accident_Index': {'type': str, 'description': 'Unique ID'},\n",
    "    'Location_Easting_OSGR': {'type': int, 'description': 'Local British coordinates'},\n",
    "    'Location_Northing_OSGR': {'type': int, 'description': 'Local British coordinates'},\n",
    "    'Longitude': {'type': float, 'description': 'Longitude'},\n",
    "    'Latitude': {'type': float, 'description': 'Latitude'},\n",
    "    'Police_Force': {'type': int, 'description': 'Police force ID'},\n",
    "    'Accident_Severity': {'type': int, 'description': 'Accident severity: the higher the number, the worse it is'},\n",
    "    'Number_of_Vehicles': {'type': int, 'description': 'Number of vehicles involved'},\n",
    "    'Number_of_Casualties': {'type': int, 'description': 'Number of casualties'},\n",
    "    'Date': {'type': type_custom_datetime, 'description': 'Date in dd/mm/yyyy format', 'format': DATE_FORMAT},\n",
    "    'Day_of_Week': {'type': int, 'description': 'Day of week: 1 is Monday, 2 is Tuesday, etc'},\n",
    "    'Time': {'type': type_custom_datetime, 'description': 'Accident GMT/UTC time in HH:MM format','format': TIME_FORMAT},\n",
    "    'Local_Authority_(District)': {'type': int, 'description': 'Local authority of district'},\n",
    "    'Local_Authority_(Highway)': {'type': str, 'description': 'Local authority of highway'},\n",
    "    '1st_Road_Class': {'type': int, 'description': 'First road class: this field is only used for junctions'},\n",
    "    '1st_Road_Number': {'type': int, 'description': 'First road number: this field is only used for junctions'},\n",
    "    'Road_Type': {'type': int, 'description': 'Road type: Roundabout, One way, Dual Carriageway, Single carriageway, slip road, unknown'},\n",
    "    'Speed_limit': {'type': type_speed_limit, 'description': 'Speed limit'},\n",
    "    'Junction_Detail': {'type': int, 'description': 'Junction detail: Crossroads, roundabouts, private roads, not a junction, etc'},\n",
    "    'Junction_Control': {'type': int, 'description': 'Junction control: A person, a type of sign, automated, etc'},\n",
    "    '2nd_Road_Class': {'type': int, 'description': 'Second road class: this field is only used for junctions'},\n",
    "    '2nd_Road_Number': {'type': int, 'description': 'Second road number: this field is only used for junctions'},\n",
    "    'Pedestrian_Crossing-Human_Control': {'type': int, 'description': 'Was there a human controller and what type?'},\n",
    "    'Pedestrian_Crossing-Physical_Facilities': {'type': int, 'description': 'Was it a zebra crossing, or bridge, or another type'},\n",
    "    'Light_Conditions': {'type': int, 'description': 'Day, night, street lights or not'},\n",
    "    'Weather_Conditions': {'type': int, 'description': 'Wind, rain, snow, fog'},\n",
    "    'Road_Surface_Conditions': {'type': int, 'description': 'Wet, snow, ice, flood'},\n",
    "    'Special_Conditions_at_Site': {'type': int, 'description': 'Was anything broken or defective, e.g. an obscured sign?'},\n",
    "    'Carriageway_Hazards': {'type': int, 'description': 'Was something in the way, e.g. a pedestrian, another accident, something in the road?'},\n",
    "    'Urban_or_Rural_Area': {'type': int, 'description': 'Urban or rural area'},\n",
    "    'Did_Police_Officer_Attend_Scene_of_Accident': {'type': int, 'description': 'Did police officer attend scene of accident'},\n",
    "    'LSOA_of_Accident_Location': {'type': str, 'description': 'Local service ordering administration of accident location'}\n",
    "}\n"
   ]
  },
  {
   "cell_type": "code",
   "execution_count": 10,
   "metadata": {},
   "outputs": [
    {
     "data": {
      "application/vnd.jupyter.widget-view+json": {
       "model_id": "f8841900769d4679b3919e5bdfae42da"
      }
     },
     "metadata": {},
     "output_type": "display_data"
    },
    {
     "name": "stdout",
     "output_type": "stream",
     "text": [
      "Loading data from file: /Users/ravinskiy/Downloads/Accidents/Accidents_2016.csv\n"
     ]
    },
    {
     "data": {
      "application/vnd.jupyter.widget-view+json": {
       "model_id": "b431c9609fd84e3fb990ba401f0a5b3a"
      }
     },
     "metadata": {},
     "output_type": "display_data"
    },
    {
     "name": "stdout",
     "output_type": "stream",
     "text": [
      "Loading data from file: /Users/ravinskiy/Downloads/Accidents/Accidents_2015.csv\n"
     ]
    },
    {
     "data": {
      "application/vnd.jupyter.widget-view+json": {
       "model_id": "07058224f51b4387a9cf8dec44327b4e"
      }
     },
     "metadata": {},
     "output_type": "display_data"
    },
    {
     "name": "stdout",
     "output_type": "stream",
     "text": [
      "Loading data from file: /Users/ravinskiy/Downloads/Accidents/Accidents_2014.csv\n"
     ]
    },
    {
     "data": {
      "application/vnd.jupyter.widget-view+json": {
       "model_id": "38e0300139aa4b9d90a3d2f3e1713b5d"
      }
     },
     "metadata": {},
     "output_type": "display_data"
    },
    {
     "name": "stdout",
     "output_type": "stream",
     "text": [
      "Loading data from file: /Users/ravinskiy/Downloads/Accidents/Accidents_2013.csv\n"
     ]
    },
    {
     "data": {
      "application/vnd.jupyter.widget-view+json": {
       "model_id": "560dc798859241c283cf346b895ebf07"
      }
     },
     "metadata": {},
     "output_type": "display_data"
    },
    {
     "name": "stdout",
     "output_type": "stream",
     "text": [
      "Loading data from file: /Users/ravinskiy/Downloads/Accidents/Accidents_2012.csv\n"
     ]
    },
    {
     "data": {
      "application/vnd.jupyter.widget-view+json": {
       "model_id": "1e18256578304fd89d7fc6d5356bbbcd"
      }
     },
     "metadata": {},
     "output_type": "display_data"
    },
    {
     "name": "stdout",
     "output_type": "stream",
     "text": [
      "Loading data from file: /Users/ravinskiy/Downloads/Accidents/Accidents_2011.csv\n"
     ]
    },
    {
     "data": {
      "application/vnd.jupyter.widget-view+json": {
       "model_id": "ffe35555b9ac42cba2484de511d0ad3a"
      }
     },
     "metadata": {},
     "output_type": "display_data"
    },
    {
     "name": "stdout",
     "output_type": "stream",
     "text": [
      "Loading data from file: /Users/ravinskiy/Downloads/Accidents/Accidents_2010.csv\n"
     ]
    },
    {
     "data": {
      "application/vnd.jupyter.widget-view+json": {
       "model_id": "db94ca86ac054953ae3888aef760083a"
      }
     },
     "metadata": {},
     "output_type": "display_data"
    },
    {
     "name": "stdout",
     "output_type": "stream",
     "text": [
      "\n",
      "Loaded records: 1013084. Skipped records: 34.\n"
     ]
    }
   ],
   "source": [
    "# Input section\n",
    "\n",
    "INPUT_DIR_PATH = '/Users/ravinskiy/Downloads/Accidents'\n",
    "\n",
    "def get_input_paths(dir_path: str) -> list:\n",
    "    paths = []\n",
    "    for filename in os.listdir(dir_path):\n",
    "        if filename.endswith('.csv'):\n",
    "            filepath = '%s/%s' % (dir_path, filename)\n",
    "            paths.append(filepath)\n",
    "    paths.sort(reverse=True)\n",
    "    return paths\n",
    "\n",
    "\n",
    "input_paths = get_input_paths(INPUT_DIR_PATH)\n",
    "\n",
    "records = list()\n",
    "skip_count = 0\n",
    "for path in tqdm(input_paths):\n",
    "    print('Loading data from file: %s'% path)\n",
    "    csv_reader = DictReader(open(path, 'r'))\n",
    "    for line in tqdm(csv_reader):\n",
    "        record = dict()\n",
    "        for column_name, column_attributes in columns.items():\n",
    "            cast_format = column_attributes.get('format', '')\n",
    "            try:\n",
    "                if not cast_format:\n",
    "                    record[column_name] = column_attributes['type'](line[column_name])\n",
    "                else:\n",
    "                    record[column_name] = column_attributes['type'](line[column_name], cast_format)\n",
    "            except:\n",
    "                if column_name == 'Location_Easting_OSGR' and not line[column_name]:\n",
    "#                     print('Empty location data. Skipping.')\n",
    "                    record = dict()\n",
    "                    skip_count += 1\n",
    "                    break\n",
    "        if record:\n",
    "            records.append(record)\n",
    "\n",
    "print('Loaded records: %s. Skipped records: %s.' % (len(records), skip_count))\n"
   ]
  },
  {
   "cell_type": "code",
   "execution_count": 13,
   "metadata": {},
   "outputs": [
    {
     "name": "stdout",
     "output_type": "stream",
     "text": [
      "\n",
      "Column: Accident_Index\n",
      "Column data type: str\n",
      "Column data description: Unique ID\n",
      "\n",
      "Column: Location_Easting_OSGR\n",
      "Column data type: int\n",
      "Column data description: Local British coordinates\n",
      "Min value: 64950\n",
      "Max value: 655370\n",
      "Median: 448406.0\n",
      "Mode: 533650\n",
      "Standard deviation: 95301.54691707491\n",
      "Distinct values count: 249443\n",
      "\n",
      "Column: Location_Northing_OSGR\n",
      "Column data type: int\n",
      "Column data description: Local British coordinates\n",
      "Min value: 10290\n",
      "Max value: 1198000\n",
      "Median: 249382.5\n",
      "Mode: 181310\n",
      "Standard deviation: 159745.6977982696\n",
      "Distinct values count: 297663\n",
      "\n",
      "Column: Longitude\n",
      "Column data type: float\n",
      "Column data description: Longitude\n",
      "Min value: -7.516225\n",
      "Max value: 1.759398\n",
      "Median: -1.2874715\n",
      "Mode: -0.104426\n",
      "Standard deviation: 1.4002475650731785\n",
      "Distinct values count: 826899\n",
      "\n",
      "Column: Latitude\n",
      "Column data type: float\n",
      "Column data description: Latitude\n",
      "Min value: 49.912941\n",
      "Max value: 60.662043\n",
      "Median: 52.1299015\n",
      "Mode: 51.519764\n",
      "Standard deviation: 1.438531682596279\n",
      "Distinct values count: 788300\n",
      "\n",
      "Column: Police_Force\n",
      "Column data type: int\n",
      "Column data description: Police force ID\n",
      "Min value: 1\n",
      "Max value: 98\n",
      "Median: 31.0\n",
      "Mode: 1\n",
      "Standard deviation: 25.405304784689964\n",
      "Distinct values count: 51\n",
      "\n",
      "Column: Accident_Severity\n",
      "Column data type: int\n",
      "Column data description: Accident severity: the higher the number, the worse it is\n",
      "Min value: 1\n",
      "Max value: 3\n",
      "Median: 3.0\n",
      "Mode: 3\n",
      "Standard deviation: 0.40177732709809694\n",
      "Distinct values count: 3\n",
      "\n",
      "Column: Number_of_Vehicles\n",
      "Column data type: int\n",
      "Column data description: Number of vehicles involved\n",
      "Min value: 1\n",
      "Max value: 67\n",
      "Median: 2.0\n",
      "Mode: 2\n",
      "Standard deviation: 0.7092081127528927\n",
      "Distinct values count: 22\n",
      "\n",
      "Column: Number_of_Casualties\n",
      "Column data type: int\n",
      "Column data description: Number of casualties\n",
      "Min value: 1\n",
      "Max value: 93\n",
      "Median: 1.0\n",
      "Mode: 1\n",
      "Standard deviation: 0.8196845620682283\n",
      "Distinct values count: 45\n",
      "\n",
      "Column: Date\n",
      "Column data type: strptime\n",
      "Column data description: Date in dd/mm/yyyy format\n",
      "\n",
      "Column: Day_of_Week\n",
      "Column data type: int\n",
      "Column data description: Day of week: 1 is Monday, 2 is Tuesday, etc\n",
      "Min value: 1\n",
      "Max value: 7\n",
      "Median: 4.0\n",
      "Mode: 6\n",
      "Standard deviation: 1.9175342935139388\n",
      "Distinct values count: 7\n",
      "\n",
      "Column: Time\n",
      "Column data type: strptime\n",
      "Column data description: Accident GMT/UTC time in HH:MM format\n",
      "\n",
      "Column: Local_Authority_(District)\n",
      "Column data type: int\n",
      "Column data description: Local authority of district\n",
      "Min value: 1\n",
      "Max value: 941\n",
      "Median: 325.0\n",
      "Mode: 300\n",
      "Standard deviation: 259.4312614138439\n",
      "Distinct values count: 380\n",
      "\n",
      "Column: Local_Authority_(Highway)\n",
      "Column data type: str\n",
      "Column data description: Local authority of highway\n",
      "\n",
      "Column: 1st_Road_Class\n",
      "Column data type: int\n",
      "Column data description: First road class: this field is only used for junctions\n",
      "Min value: 1\n",
      "Max value: 6\n",
      "Median: 4.0\n",
      "Mode: 3\n",
      "Standard deviation: 1.4261287974966526\n",
      "Distinct values count: 6\n",
      "\n",
      "Column: 1st_Road_Number\n",
      "Column data type: int\n",
      "Column data description: First road number: this field is only used for junctions\n",
      "Min value: 0\n",
      "Max value: 9999\n",
      "Median: 127.0\n",
      "Mode: 0\n",
      "Standard deviation: 1800.9657847896942\n",
      "Distinct values count: 6204\n",
      "\n",
      "Column: Road_Type\n",
      "Column data type: int\n",
      "Column data description: Road type: Roundabout, One way, Dual Carriageway, Single carriageway, slip road, unknown\n",
      "Min value: 1\n",
      "Max value: 9\n",
      "Median: 6.0\n",
      "Mode: 6\n",
      "Standard deviation: 1.6432517441031183\n",
      "Distinct values count: 6\n",
      "\n",
      "Column: Speed_limit\n",
      "Column data type: type_speed_limit\n",
      "Column data description: Speed limit\n",
      "Min value: 0.0\n",
      "Max value: inf\n",
      "Median: 30.0\n",
      "Mode: 30.0\n",
      "Standard deviation: nan\n",
      "Distinct values count: 10\n",
      "\n",
      "Column: Junction_Detail\n",
      "Column data type: int\n",
      "Column data description: Junction detail: Crossroads, roundabouts, private roads, not a junction, etc\n",
      "Min value: -1\n",
      "Max value: 9\n",
      "Median: 3.0\n",
      "Mode: 0\n",
      "Standard deviation: 2.5188358137801883\n",
      "Distinct values count: 10\n",
      "\n",
      "Column: Junction_Control\n",
      "Column data type: int\n",
      "Column data description: Junction control: A person, a type of sign, automated, etc\n",
      "Min value: -1\n",
      "Max value: 4\n",
      "Median: 2.0\n",
      "Mode: 4\n",
      "Standard deviation: 2.33444559701368\n",
      "Distinct values count: 6\n",
      "\n",
      "Column: 2nd_Road_Class\n",
      "Column data type: int\n",
      "Column data description: Second road class: this field is only used for junctions\n",
      "Min value: -1\n",
      "Max value: 6\n",
      "Median: 3.0\n",
      "Mode: 6\n",
      "Standard deviation: 3.2019951065184897\n",
      "Distinct values count: 7\n",
      "\n",
      "Column: 2nd_Road_Number\n",
      "Column data type: int\n",
      "Column data description: Second road number: this field is only used for junctions\n",
      "Min value: -1\n",
      "Max value: 9999\n",
      "Median: 0.0\n",
      "Mode: 0\n",
      "Standard deviation: 1277.238767672582\n",
      "Distinct values count: 6244\n",
      "\n",
      "Column: Pedestrian_Crossing-Human_Control\n",
      "Column data type: int\n",
      "Column data description: Was there a human controller and what type?\n",
      "Min value: -1\n",
      "Max value: 2\n",
      "Median: 0.0\n",
      "Mode: 0\n",
      "Standard deviation: 0.13002344166348173\n",
      "Distinct values count: 4\n",
      "\n",
      "Column: Pedestrian_Crossing-Physical_Facilities\n",
      "Column data type: int\n",
      "Column data description: Was it a zebra crossing, or bridge, or another type\n",
      "Min value: -1\n",
      "Max value: 8\n",
      "Median: 0.0\n",
      "Mode: 0\n",
      "Standard deviation: 1.905011598505499\n",
      "Distinct values count: 7\n",
      "\n",
      "Column: Light_Conditions\n",
      "Column data type: int\n",
      "Column data description: Day, night, street lights or not\n",
      "Min value: -1\n",
      "Max value: 7\n",
      "Median: 1.0\n",
      "Mode: 1\n",
      "Standard deviation: 1.648217326633\n",
      "Distinct values count: 6\n",
      "\n",
      "Column: Weather_Conditions\n",
      "Column data type: int\n",
      "Column data description: Wind, rain, snow, fog\n",
      "Min value: -1\n",
      "Max value: 9\n",
      "Median: 1.0\n",
      "Mode: 1\n",
      "Standard deviation: 1.5950555454522453\n",
      "Distinct values count: 10\n",
      "\n",
      "Column: Road_Surface_Conditions\n",
      "Column data type: int\n",
      "Column data description: Wet, snow, ice, flood\n",
      "Min value: -1\n",
      "Max value: 5\n",
      "Median: 1.0\n",
      "Mode: 1\n",
      "Standard deviation: 0.6271914448925603\n",
      "Distinct values count: 6\n",
      "\n",
      "Column: Special_Conditions_at_Site\n",
      "Column data type: int\n",
      "Column data description: Was anything broken or defective, e.g. an obscured sign?\n",
      "Min value: -1\n",
      "Max value: 7\n",
      "Median: 0.0\n",
      "Mode: 0\n",
      "Standard deviation: 0.7003843665426925\n",
      "Distinct values count: 9\n",
      "\n",
      "Column: Carriageway_Hazards\n",
      "Column data type: int\n",
      "Column data description: Was something in the way, e.g. a pedestrian, another accident, something in the road?\n",
      "Min value: -1\n",
      "Max value: 7\n",
      "Median: 0.0\n",
      "Mode: 0\n",
      "Standard deviation: 0.611384713630006\n",
      "Distinct values count: 7\n",
      "\n",
      "Column: Urban_or_Rural_Area\n",
      "Column data type: int\n",
      "Column data description: Urban or rural area\n",
      "Min value: 1\n",
      "Max value: 2\n",
      "Median: 1.0\n",
      "Mode: 1\n",
      "Standard deviation: 0.4767100364469514\n",
      "Distinct values count: 2\n",
      "\n",
      "Column: Did_Police_Officer_Attend_Scene_of_Accident\n",
      "Column data type: int\n",
      "Column data description: Did police pfficer attend scene of accident\n",
      "Min value: -1\n",
      "Max value: 3\n",
      "Median: 1.0\n",
      "Mode: 1\n",
      "Standard deviation: 0.404041092880265\n",
      "Distinct values count: 4\n",
      "\n",
      "Column: LSOA_of_Accident_Location\n",
      "Column data type: str\n",
      "Column data description: Local service ordering administration of accident location\n"
     ]
    }
   ],
   "source": [
    "# Report section\n",
    "\n",
    "for column_name, column_attributes in columns.items():\n",
    "    print()\n",
    "    print('Column: %s' % column_name)\n",
    "    column_type = column_attributes['type'].__name__\n",
    "    print('Column data type: %s' % column_type)\n",
    "    print('Column data description: %s' % column_attributes['description'])\n",
    "    if column_type in ['int', 'float', 'type_speed_limit']:\n",
    "        column = [record[column_name] for record in records]\n",
    "        median = statistics.median(column)\n",
    "        mode = statistics.mode(column)\n",
    "        stdev = statistics.stdev(column)\n",
    "        min_val = min(column)\n",
    "        max_val = max(column)\n",
    "        column_set = set(column)\n",
    "        print('Min value: %s' % min_val)\n",
    "        print('Max value: %s' % max_val)\n",
    "        print('Median: %s' % median)\n",
    "        print('Mode: %s' % mode)\n",
    "        print('Standard deviation: %s' % stdev)\n",
    "        print('Distinct values count: %s' % len(column_set))"
   ]
  },
  {
   "cell_type": "code",
   "execution_count": null,
   "metadata": {
    "collapsed": true
   },
   "outputs": [],
   "source": []
  },
  {
   "cell_type": "code",
   "execution_count": null,
   "metadata": {
    "collapsed": true
   },
   "outputs": [],
   "source": []
  }
 ],
 "metadata": {
  "kernelspec": {
   "display_name": "Python 3",
   "language": "python",
   "name": "python3"
  },
  "language_info": {
   "codemirror_mode": {
    "name": "ipython",
    "version": 3
   },
   "file_extension": ".py",
   "mimetype": "text/x-python",
   "name": "python",
   "nbconvert_exporter": "python",
   "pygments_lexer": "ipython3",
   "version": "3.6.2"
  }
 },
 "nbformat": 4,
 "nbformat_minor": 2
}
