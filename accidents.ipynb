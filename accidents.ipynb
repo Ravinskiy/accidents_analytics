{
 "cells": [
  {
   "cell_type": "code",
   "execution_count": 1,
   "metadata": {},
   "outputs": [
    {
     "name": "stdout",
     "output_type": "stream",
     "text": [
      "3.6.2 (v3.6.2:5fd33b5926, Jul 16 2017, 20:11:06) \n",
      "[GCC 4.2.1 (Apple Inc. build 5666) (dot 3)]\n"
     ]
    }
   ],
   "source": [
    "'''\n",
    "Accidents analytics\n",
    "\n",
    "by Pinhas Ravinskiy\n",
    "\n",
    "Python 3.5\n",
    "'''\n",
    "\n",
    "# Imports section\n",
    "\n",
    "import os\n",
    "import sys\n",
    "import statistics\n",
    "from datetime import datetime\n",
    "from csv import DictReader\n",
    "from tqdm import tqdm_notebook as tqdm  # if some error/warnings try to run in terminal \"jupyter nbextension enable --py --sys-prefix widgetsnbextension\" and reload notebook page\n",
    "\n",
    "print(sys.version)"
   ]
  },
  {
   "cell_type": "code",
   "execution_count": 2,
   "metadata": {
    "collapsed": true
   },
   "outputs": [],
   "source": [
    "# Data model section\n",
    "\n",
    "type_custom_datetime = datetime.strptime\n",
    "DATE_FORMAT = '%d/%m/%Y'\n",
    "TIME_FORMAT = '%H:%M'\n",
    "\n",
    "\n",
    "def type_speed_limit(val: str) -> float:\n",
    "    if val.lower() == 'null' or not val:\n",
    "        return float('+infinity')\n",
    "    else:\n",
    "        return float(val)\n",
    "\n",
    "        \n",
    "# Dataset description\n",
    "columns = {\n",
    "    'Accident_Index': {'type': str, 'description': 'Unique ID'},\n",
    "    'Location_Easting_OSGR': {'type': int, 'description': 'Local British coordinates'},\n",
    "    'Location_Northing_OSGR': {'type': int, 'description': 'Local British coordinates'},\n",
    "    'Longitude': {'type': float, 'description': 'Longitude'},\n",
    "    'Latitude': {'type': float, 'description': 'Latitude'},\n",
    "    'Police_Force': {'type': int, 'description': 'Police force ID'},\n",
    "    'Accident_Severity': {'type': int, 'description': 'Accident severity: the higher the number, the worse it is'},\n",
    "    'Number_of_Vehicles': {'type': int, 'description': 'Number of vehicles involved'},\n",
    "    'Number_of_Casualties': {'type': int, 'description': 'Number of casualties'},\n",
    "    'Date': {'type': type_custom_datetime, 'description': 'Date in dd/mm/yyyy format', 'format': DATE_FORMAT},\n",
    "    'Day_of_Week': {'type': int, 'description': 'Day of week: 1 is Monday, 2 is Tuesday, etc'},\n",
    "    'Time': {'type': type_custom_datetime, 'description': 'Accident GMT/UTC time in HH:MM format','format': TIME_FORMAT},\n",
    "    'Local_Authority_(District)': {'type': int, 'description': 'Local authority of district'},\n",
    "    'Local_Authority_(Highway)': {'type': str, 'description': 'Local authority of highway'},\n",
    "    '1st_Road_Class': {'type': int, 'description': 'First road class: this field is only used for junctions'},\n",
    "    '1st_Road_Number': {'type': int, 'description': 'First road number: this field is only used for junctions'},\n",
    "    'Road_Type': {'type': int, 'description': 'Road type: Roundabout, One way, Dual Carriageway, Single carriageway, slip road, unknown'},\n",
    "    'Speed_limit': {'type': type_speed_limit, 'description': 'Speed limit'},\n",
    "    'Junction_Detail': {'type': int, 'description': 'Junction detail: Crossroads, roundabouts, private roads, not a junction, etc'},\n",
    "    'Junction_Control': {'type': int, 'description': 'Junction control: A person, a type of sign, automated, etc'},\n",
    "    '2nd_Road_Class': {'type': int, 'description': 'Second road class: this field is only used for junctions'},\n",
    "    '2nd_Road_Number': {'type': int, 'description': 'Second road number: this field is only used for junctions'},\n",
    "    'Pedestrian_Crossing-Human_Control': {'type': int, 'description': 'Was there a human controller and what type?'},\n",
    "    'Pedestrian_Crossing-Physical_Facilities': {'type': int, 'description': 'Was it a zebra crossing, or bridge, or another type'},\n",
    "    'Light_Conditions': {'type': int, 'description': 'Day, night, street lights or not'},\n",
    "    'Weather_Conditions': {'type': int, 'description': 'Wind, rain, snow, fog'},\n",
    "    'Road_Surface_Conditions': {'type': int, 'description': 'Wet, snow, ice, flood'},\n",
    "    'Special_Conditions_at_Site': {'type': int, 'description': 'Was anything broken or defective, e.g. an obscured sign?'},\n",
    "    'Carriageway_Hazards': {'type': int, 'description': 'Was something in the way, e.g. a pedestrian, another accident, something in the road?'},\n",
    "    'Urban_or_Rural_Area': {'type': int, 'description': 'Urban or rural area'},\n",
    "    'Did_Police_Officer_Attend_Scene_of_Accident': {'type': int, 'description': 'Did police officer attend scene of accident'},\n",
    "    'LSOA_of_Accident_Location': {'type': str, 'description': 'Local service ordering administration of accident location'}\n",
    "}\n"
   ]
  },
  {
   "cell_type": "code",
   "execution_count": 3,
   "metadata": {},
   "outputs": [
    {
     "data": {
      "application/vnd.jupyter.widget-view+json": {
       "model_id": "776b352de4f64cf29e9f2def68b8e87a"
      }
     },
     "metadata": {},
     "output_type": "display_data"
    },
    {
     "name": "stdout",
     "output_type": "stream",
     "text": [
      "Loading data from file: /Users/ravinskiy/Downloads/Accidents/Accidents_2016.csv\n"
     ]
    },
    {
     "data": {
      "application/vnd.jupyter.widget-view+json": {
       "model_id": "e3814184d004478795dd81c54d29c0d8"
      }
     },
     "metadata": {},
     "output_type": "display_data"
    },
    {
     "name": "stdout",
     "output_type": "stream",
     "text": [
      "Loading data from file: /Users/ravinskiy/Downloads/Accidents/Accidents_2015.csv\n"
     ]
    },
    {
     "data": {
      "application/vnd.jupyter.widget-view+json": {
       "model_id": "842f2dcdf259441f88f46a003d9ac8a3"
      }
     },
     "metadata": {},
     "output_type": "display_data"
    },
    {
     "name": "stdout",
     "output_type": "stream",
     "text": [
      "Loading data from file: /Users/ravinskiy/Downloads/Accidents/Accidents_2014.csv\n"
     ]
    },
    {
     "data": {
      "application/vnd.jupyter.widget-view+json": {
       "model_id": "8e2db55abb464ee59a019fb53022ee58"
      }
     },
     "metadata": {},
     "output_type": "display_data"
    },
    {
     "name": "stdout",
     "output_type": "stream",
     "text": [
      "Loading data from file: /Users/ravinskiy/Downloads/Accidents/Accidents_2013.csv\n"
     ]
    },
    {
     "data": {
      "application/vnd.jupyter.widget-view+json": {
       "model_id": "81cb66dc576a4c0b8dcb0c19a19db366"
      }
     },
     "metadata": {},
     "output_type": "display_data"
    },
    {
     "name": "stdout",
     "output_type": "stream",
     "text": [
      "Loading data from file: /Users/ravinskiy/Downloads/Accidents/Accidents_2012.csv\n"
     ]
    },
    {
     "data": {
      "application/vnd.jupyter.widget-view+json": {
       "model_id": "5b5a9cc817d140d29d26c30febb4ac4c"
      }
     },
     "metadata": {},
     "output_type": "display_data"
    },
    {
     "name": "stdout",
     "output_type": "stream",
     "text": [
      "Loading data from file: /Users/ravinskiy/Downloads/Accidents/Accidents_2011.csv\n"
     ]
    },
    {
     "data": {
      "application/vnd.jupyter.widget-view+json": {
       "model_id": "3255101398ad456daabac832674647ff"
      }
     },
     "metadata": {},
     "output_type": "display_data"
    },
    {
     "name": "stdout",
     "output_type": "stream",
     "text": [
      "Loading data from file: /Users/ravinskiy/Downloads/Accidents/Accidents_2010.csv\n"
     ]
    },
    {
     "data": {
      "application/vnd.jupyter.widget-view+json": {
       "model_id": "a5c6477eceb4406a97a5403434ad4e7d"
      }
     },
     "metadata": {},
     "output_type": "display_data"
    },
    {
     "name": "stdout",
     "output_type": "stream",
     "text": [
      "\n",
      "Loaded records: 866709. Skipped records: 146409.\n"
     ]
    }
   ],
   "source": [
    "# Input section\n",
    "\n",
    "INPUT_DIR_PATH = '/Users/ravinskiy/Downloads/Accidents'\n",
    "\n",
    "def get_input_paths(dir_path: str) -> list:\n",
    "    paths = []\n",
    "    for filename in os.listdir(dir_path):\n",
    "        if filename.endswith('.csv'):\n",
    "            filepath = '%s/%s' % (dir_path, filename)\n",
    "            paths.append(filepath)\n",
    "    paths.sort(reverse=True)\n",
    "    return paths\n",
    "\n",
    "\n",
    "input_paths = get_input_paths(INPUT_DIR_PATH)\n",
    "\n",
    "records = list()\n",
    "skip_count = 0\n",
    "for path in tqdm(input_paths):\n",
    "    print('Loading data from file: %s'% path)\n",
    "    csv_reader = DictReader(open(path, 'r'))\n",
    "    for line in tqdm(csv_reader):\n",
    "        record = dict()\n",
    "        for column_name, column_attributes in columns.items():\n",
    "            cast_format = column_attributes.get('format', '')\n",
    "            try:\n",
    "                if not cast_format:\n",
    "                    record[column_name] = column_attributes['type'](line[column_name])\n",
    "                else:\n",
    "                    record[column_name] = column_attributes['type'](line[column_name], cast_format)\n",
    "            except:\n",
    "#                 if column_name == 'Location_Easting_OSGR' and not line[column_name]:\n",
    "#                     print('Empty location data. Skipping.')\n",
    "                record = dict()\n",
    "                skip_count += 1\n",
    "                break\n",
    "        if record:\n",
    "            records.append(record)\n",
    "\n",
    "print('Loaded records: %s. Skipped records: %s.' % (len(records), skip_count))\n"
   ]
  },
  {
   "cell_type": "code",
   "execution_count": 4,
   "metadata": {},
   "outputs": [],
   "source": [
    "# Data transformation section\n",
    "\n",
    "columns_data = dict()\n",
    "for column_name in columns.keys():\n",
    "    columns_data[column_name] = list()\n",
    "for record in records:\n",
    "    for column_name in columns.keys():\n",
    "        columns_data[column_name].append(record[column_name])"
   ]
  },
  {
   "cell_type": "code",
   "execution_count": 5,
   "metadata": {},
   "outputs": [
    {
     "name": "stdout",
     "output_type": "stream",
     "text": [
      "\n",
      "Column: Accident_Index\n",
      "Column data type: str\n",
      "Column data description: Unique ID\n",
      "\n",
      "Column: Location_Easting_OSGR\n",
      "Column data type: int\n",
      "Column data description: Local British coordinates\n",
      "Min value: 64950\n",
      "Max value: 655370\n",
      "Median: 447870\n",
      "Mode: 533650\n",
      "Standard deviation: 95320.92140821044\n",
      "Distinct values count: 220424\n",
      "\n",
      "Column: Location_Northing_OSGR\n",
      "Column data type: int\n",
      "Column data description: Local British coordinates\n",
      "Min value: 10290\n",
      "Max value: 1198000\n",
      "Median: 250900\n",
      "Mode: 181310\n",
      "Standard deviation: 160032.4886281632\n",
      "Distinct values count: 260487\n",
      "\n",
      "Column: Longitude\n",
      "Column data type: float\n",
      "Column data description: Longitude\n",
      "Min value: -7.516225\n",
      "Max value: 1.759398\n",
      "Median: -1.295516\n",
      "Mode: -0.056477\n",
      "Standard deviation: 1.4006614286953611\n",
      "Distinct values count: 721526\n",
      "\n",
      "Column: Latitude\n",
      "Column data type: float\n",
      "Column data description: Latitude\n",
      "Min value: 49.912941\n",
      "Max value: 60.662043\n",
      "Median: 52.143398\n",
      "Mode: 51.519764\n",
      "Standard deviation: 1.4410939559922364\n",
      "Distinct values count: 691227\n",
      "\n",
      "Column: Police_Force\n",
      "Column data type: int\n",
      "Column data description: Police force ID\n",
      "Min value: 1\n",
      "Max value: 98\n",
      "Median: 31\n",
      "Mode: 1\n",
      "Standard deviation: 25.43843400096355\n",
      "Distinct values count: 51\n",
      "\n",
      "Column: Accident_Severity\n",
      "Column data type: int\n",
      "Column data description: Accident severity: the higher the number, the worse it is\n",
      "Min value: 1\n",
      "Max value: 3\n",
      "Median: 3\n",
      "Mode: 3\n",
      "Standard deviation: 0.4021167474597101\n",
      "Distinct values count: 3\n",
      "\n",
      "Column: Number_of_Vehicles\n",
      "Column data type: int\n",
      "Column data description: Number of vehicles involved\n",
      "Min value: 1\n",
      "Max value: 67\n",
      "Median: 2\n",
      "Mode: 2\n",
      "Standard deviation: 0.7107164904344824\n",
      "Distinct values count: 21\n",
      "\n",
      "Column: Number_of_Casualties\n",
      "Column data type: int\n",
      "Column data description: Number of casualties\n",
      "Min value: 1\n",
      "Max value: 87\n",
      "Median: 1\n",
      "Mode: 1\n",
      "Standard deviation: 0.8131436900462224\n",
      "Distinct values count: 41\n",
      "\n",
      "Column: Date\n",
      "Column data type: strptime\n",
      "Column data description: Date in dd/mm/yyyy format\n",
      "\n",
      "Column: Day_of_Week\n",
      "Column data type: int\n",
      "Column data description: Day of week: 1 is Monday, 2 is Tuesday, etc\n",
      "Min value: 1\n",
      "Max value: 7\n",
      "Median: 4\n",
      "Mode: 6\n",
      "Standard deviation: 1.9176787867439626\n",
      "Distinct values count: 7\n",
      "\n",
      "Column: Time\n",
      "Column data type: strptime\n",
      "Column data description: Accident GMT/UTC time in HH:MM format\n",
      "\n",
      "Column: Local_Authority_(District)\n",
      "Column data type: int\n",
      "Column data description: Local authority of district\n",
      "Min value: 1\n",
      "Max value: 941\n",
      "Median: 325\n",
      "Mode: 300\n",
      "Standard deviation: 259.60095546912646\n",
      "Distinct values count: 380\n",
      "\n",
      "Column: Local_Authority_(Highway)\n",
      "Column data type: str\n",
      "Column data description: Local authority of highway\n",
      "\n",
      "Column: 1st_Road_Class\n",
      "Column data type: int\n",
      "Column data description: First road class: this field is only used for junctions\n",
      "Min value: 1\n",
      "Max value: 6\n",
      "Median: 4\n",
      "Mode: 3\n",
      "Standard deviation: 1.427588721084464\n",
      "Distinct values count: 6\n",
      "\n",
      "Column: 1st_Road_Number\n",
      "Column data type: int\n",
      "Column data description: First road number: this field is only used for junctions\n",
      "Min value: 0\n",
      "Max value: 9999\n",
      "Median: 125\n",
      "Mode: 0\n",
      "Standard deviation: 1802.4574218508453\n",
      "Distinct values count: 6088\n",
      "\n",
      "Column: Road_Type\n",
      "Column data type: int\n",
      "Column data description: Road type: Roundabout, One way, Dual Carriageway, Single carriageway, slip road, unknown\n",
      "Min value: 1\n",
      "Max value: 9\n",
      "Median: 6\n",
      "Mode: 6\n",
      "Standard deviation: 1.6430769648263779\n",
      "Distinct values count: 6\n",
      "\n",
      "Column: Speed_limit\n",
      "Column data type: type_speed_limit\n",
      "Column data description: Speed limit\n",
      "Min value: 0.0\n",
      "Max value: inf\n",
      "Median: 30.0\n",
      "Mode: 30.0\n",
      "Standard deviation: nan\n",
      "Distinct values count: 10\n",
      "\n",
      "Column: Junction_Detail\n",
      "Column data type: int\n",
      "Column data description: Junction detail: Crossroads, roundabouts, private roads, not a junction, etc\n",
      "Min value: -1\n",
      "Max value: 9\n",
      "Median: 3\n",
      "Mode: 0\n",
      "Standard deviation: 2.5222899278482487\n",
      "Distinct values count: 10\n",
      "\n",
      "Column: Junction_Control\n",
      "Column data type: int\n",
      "Column data description: Junction control: A person, a type of sign, automated, etc\n",
      "Min value: -1\n",
      "Max value: 4\n",
      "Median: 2\n",
      "Mode: 4\n",
      "Standard deviation: 2.333511062289356\n",
      "Distinct values count: 6\n",
      "\n",
      "Column: 2nd_Road_Class\n",
      "Column data type: int\n",
      "Column data description: Second road class: this field is only used for junctions\n",
      "Min value: -1\n",
      "Max value: 6\n",
      "Median: 3\n",
      "Mode: -1\n",
      "Standard deviation: 3.2032025009084575\n",
      "Distinct values count: 7\n",
      "\n",
      "Column: 2nd_Road_Number\n",
      "Column data type: int\n",
      "Column data description: Second road number: this field is only used for junctions\n",
      "Min value: -1\n",
      "Max value: 9999\n",
      "Median: 0\n",
      "Mode: 0\n",
      "Standard deviation: 1275.433754947703\n",
      "Distinct values count: 6098\n",
      "\n",
      "Column: Pedestrian_Crossing-Human_Control\n",
      "Column data type: int\n",
      "Column data description: Was there a human controller and what type?\n",
      "Min value: -1\n",
      "Max value: 2\n",
      "Median: 0\n",
      "Mode: 0\n",
      "Standard deviation: 0.1316627369412026\n",
      "Distinct values count: 4\n",
      "\n",
      "Column: Pedestrian_Crossing-Physical_Facilities\n",
      "Column data type: int\n",
      "Column data description: Was it a zebra crossing, or bridge, or another type\n",
      "Min value: -1\n",
      "Max value: 8\n",
      "Median: 0\n",
      "Mode: 0\n",
      "Standard deviation: 1.8976339438833465\n",
      "Distinct values count: 7\n",
      "\n",
      "Column: Light_Conditions\n",
      "Column data type: int\n",
      "Column data description: Day, night, street lights or not\n",
      "Min value: -1\n",
      "Max value: 7\n",
      "Median: 1\n",
      "Mode: 1\n",
      "Standard deviation: 1.6517685563102653\n",
      "Distinct values count: 6\n",
      "\n",
      "Column: Weather_Conditions\n",
      "Column data type: int\n",
      "Column data description: Wind, rain, snow, fog\n",
      "Min value: -1\n",
      "Max value: 9\n",
      "Median: 1\n",
      "Mode: 1\n",
      "Standard deviation: 1.6081624449623422\n",
      "Distinct values count: 10\n",
      "\n",
      "Column: Road_Surface_Conditions\n",
      "Column data type: int\n",
      "Column data description: Wet, snow, ice, flood\n",
      "Min value: -1\n",
      "Max value: 5\n",
      "Median: 1\n",
      "Mode: 1\n",
      "Standard deviation: 0.6365014077365482\n",
      "Distinct values count: 6\n",
      "\n",
      "Column: Special_Conditions_at_Site\n",
      "Column data type: int\n",
      "Column data description: Was anything broken or defective, e.g. an obscured sign?\n",
      "Min value: -1\n",
      "Max value: 7\n",
      "Median: 0\n",
      "Mode: 0\n",
      "Standard deviation: 0.702882822806724\n",
      "Distinct values count: 9\n",
      "\n",
      "Column: Carriageway_Hazards\n",
      "Column data type: int\n",
      "Column data description: Was something in the way, e.g. a pedestrian, another accident, something in the road?\n",
      "Min value: -1\n",
      "Max value: 7\n",
      "Median: 0\n",
      "Mode: 0\n",
      "Standard deviation: 0.6111589304047877\n",
      "Distinct values count: 7\n",
      "\n",
      "Column: Urban_or_Rural_Area\n",
      "Column data type: int\n",
      "Column data description: Urban or rural area\n",
      "Min value: 1\n",
      "Max value: 2\n",
      "Median: 1\n",
      "Mode: 1\n",
      "Standard deviation: 0.47709301347547517\n",
      "Distinct values count: 2\n",
      "\n",
      "Column: Did_Police_Officer_Attend_Scene_of_Accident\n",
      "Column data type: int\n",
      "Column data description: Did police officer attend scene of accident\n",
      "Min value: -1\n",
      "Max value: 3\n",
      "Median: 1\n",
      "Mode: 1\n",
      "Standard deviation: 0.4069040958891109\n",
      "Distinct values count: 4\n",
      "\n",
      "Column: LSOA_of_Accident_Location\n",
      "Column data type: str\n",
      "Column data description: Local service ordering administration of accident location\n"
     ]
    }
   ],
   "source": [
    "# Report section\n",
    "\n",
    "# Basic columns description\n",
    "for column_name, column_attributes in columns.items():\n",
    "    print()\n",
    "    print('Column: %s' % column_name)\n",
    "    column_type = column_attributes['type'].__name__\n",
    "    print('Column data type: %s' % column_type)\n",
    "    print('Column data description: %s' % column_attributes['description'])\n",
    "    column = columns_data[column_name]\n",
    "    if column_type in ['int', 'float', 'type_speed_limit']:\n",
    "        median = statistics.median(column)\n",
    "        mode = statistics.mode(column)\n",
    "        stdev = statistics.stdev(column)\n",
    "        min_val = min(column)\n",
    "        max_val = max(column)\n",
    "        column_set = set(column)\n",
    "        print('Min value: %s' % min_val)\n",
    "        print('Max value: %s' % max_val)\n",
    "        print('Median: %s' % median)\n",
    "        print('Mode: %s' % mode)\n",
    "        print('Standard deviation: %s' % stdev)\n",
    "        print('Distinct values count: %s' % len(column_set))"
   ]
  },
  {
   "cell_type": "code",
   "execution_count": null,
   "metadata": {
    "collapsed": true
   },
   "outputs": [],
   "source": []
  },
  {
   "cell_type": "code",
   "execution_count": null,
   "metadata": {
    "collapsed": true
   },
   "outputs": [],
   "source": []
  }
 ],
 "metadata": {
  "kernelspec": {
   "display_name": "Python 3",
   "language": "python",
   "name": "python3"
  },
  "language_info": {
   "codemirror_mode": {
    "name": "ipython",
    "version": 3
   },
   "file_extension": ".py",
   "mimetype": "text/x-python",
   "name": "python",
   "nbconvert_exporter": "python",
   "pygments_lexer": "ipython3",
   "version": "3.6.2"
  }
 },
 "nbformat": 4,
 "nbformat_minor": 2
}
